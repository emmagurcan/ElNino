{
 "cells": [
  {
   "cell_type": "code",
   "execution_count": 8,
   "metadata": {},
   "outputs": [
    {
     "name": "stdout",
     "output_type": "stream",
     "text": [
      "(38, 7200)\n",
      "(38,)\n"
     ]
    }
   ],
   "source": [
    "from pathlib import Path\n",
    "import matplotlib.pyplot as plt\n",
    "import xarray as xr\n",
    "import numpy as np\n",
    "import pandas as pd\n",
    "\n",
    "dir0 = Path('el_nino/')\n",
    "file_sst = 'sst.mnmean.nc'\n",
    "file_2 = 'mslp_coarse.nc'\n",
    "\n",
    "# load the data set with xarray\n",
    "ds_nino = xr.open_dataset(Path(dir0, file_sst))\n",
    "\n",
    "# define 3.4 region\n",
    "lat_min, lat_max = -5.5, 5.5\n",
    "lon_min, lon_max = 190, 240\n",
    "\n",
    "# Select the region\n",
    "ds_region = ds_nino.where((ds_nino.lat >= lat_min) & (ds_nino.lat <= lat_max) & (ds_nino.lon >= lon_min) & (ds_nino.lon <= lon_max), drop=True)\n",
    "\n",
    "# List of years when El Niño occurred\n",
    "elnino_years = [1982, 1986, 1987, 1991, 1994, 1997, 2002, 2004, 2006, 2009, 2014, 2015, 2018]\n",
    "lanina_years = [1983, 1984, 1988, 1995, 1998, 1999, 2000, 2005, 2007, 2008, 2010, 2016, 2017, 2020, 2021]\n",
    "years2 = range(1983, 2021)\n",
    "\n",
    "# Prepare lists to store data\n",
    "years_col = []\n",
    "el_nino_col = []\n",
    "sst_data = {}\n",
    "\n",
    "# Loop through each year\n",
    "for year in years2:\n",
    "    years_col.append(year)\n",
    "    el_nino_col.append(1 if year in elnino_years else -1 if year in lanina_years else 0)\n",
    "    \n",
    "    # flatten the sst from ds_region\n",
    "    filtered_data = ds_region.where(ds_region['time'].dt.year == (year - 1), drop=True)\n",
    "    numpy_array = filtered_data['sst'].to_numpy()\n",
    "    flattened_data = numpy_array.flatten()\n",
    "    sst_data[str(year)] = flattened_data\n",
    "\n",
    "# Convert the dictionary to a 2D NumPy array\n",
    "sst_array = np.array(list(sst_data.values()))\n",
    "\n",
    "# Convert el_nino_col to a NumPy array\n",
    "labels = np.array(el_nino_col)\n",
    "\n",
    "print(sst_array.shape)\n",
    "print(labels.shape)\n",
    "\n"
   ]
  },
  {
   "cell_type": "code",
   "execution_count": 9,
   "metadata": {},
   "outputs": [
    {
     "name": "stdout",
     "output_type": "stream",
     "text": [
      "   Actual  Predicted\n",
      "0      -1         -1\n",
      "1       0          1\n",
      "2       1          1\n",
      "3       0          1\n",
      "4       0          1\n",
      "5       1          0\n",
      "6       0         -1\n",
      "7      -1         -1\n",
      "Model Accuracy: 0.375\n"
     ]
    }
   ],
   "source": [
    "from sklearn.model_selection import train_test_split\n",
    "from sklearn.svm import SVC\n",
    "from sklearn.metrics import accuracy_score\n",
    "from sklearn.linear_model import Lasso\n",
    "from sklearn.decomposition import PCA\n",
    "from sklearn.preprocessing import StandardScaler\n",
    "from sklearn.model_selection import cross_val_score\n",
    "from sklearn.discriminant_analysis import LinearDiscriminantAnalysis\n",
    "\n",
    "\n",
    "X_train, X_test, y_train, y_test = train_test_split(sst_array, labels, test_size=0.2, random_state=42)\n",
    "\n",
    "# Scale the data\n",
    "scaler = StandardScaler()\n",
    "X_train_scaled = scaler.fit_transform(X_train)\n",
    "X_test_scaled = scaler.transform(X_test)\n",
    "\n",
    "# Apply PCA\n",
    "pca = PCA(n_components=0.95)  # Keep 95% of variance\n",
    "X_train = pca.fit_transform(X_train_scaled)\n",
    "X_test = pca.transform(X_test_scaled)\n",
    "\n",
    "# Apply LDA\n",
    "lda = LinearDiscriminantAnalysis()\n",
    "X_train_lda = lda.fit_transform(X_train, y_train)\n",
    "X_test_lda = lda.transform(X_test)\n",
    "\n",
    "# Create the SVM model with a kernel\n",
    "svm_model = SVC(kernel='rbf')\n",
    "\n",
    "# Train the model\n",
    "svm_model.fit(X_train, y_train)\n",
    "\n",
    "# Make predictions\n",
    "y_pred = svm_model.predict(X_test)\n",
    "\n",
    "# Create a DataFrame for comparison\n",
    "comparison_df = pd.DataFrame({'Actual': y_test, 'Predicted': y_pred})\n",
    "\n",
    "# Display the DataFrame\n",
    "print(comparison_df)\n",
    "\n",
    "# Calculate accuracy\n",
    "accuracy = accuracy_score(y_test, y_pred)\n",
    "print(f\"Model Accuracy: {accuracy}\")"
   ]
  }
 ],
 "metadata": {
  "kernelspec": {
   "display_name": "Python 3",
   "language": "python",
   "name": "python3"
  },
  "language_info": {
   "codemirror_mode": {
    "name": "ipython",
    "version": 3
   },
   "file_extension": ".py",
   "mimetype": "text/x-python",
   "name": "python",
   "nbconvert_exporter": "python",
   "pygments_lexer": "ipython3",
   "version": "3.11.6"
  }
 },
 "nbformat": 4,
 "nbformat_minor": 2
}
